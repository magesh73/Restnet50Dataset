{
  "nbformat": 4,
  "nbformat_minor": 0,
  "metadata": {
    "colab": {
      "name": "AutoPilot.ipynb",
      "version": "0.3.2",
      "provenance": [],
      "include_colab_link": true
    },
    "kernelspec": {
      "name": "python3",
      "display_name": "Python 3"
    },
    "accelerator": "GPU"
  },
  "cells": [
    {
      "cell_type": "markdown",
      "metadata": {
        "id": "view-in-github",
        "colab_type": "text"
      },
      "source": [
        "<a href=\"https://colab.research.google.com/github/magesh73/Restnet50Dataset/blob/master/AutoPilot.ipynb\" target=\"_parent\"><img src=\"https://colab.research.google.com/assets/colab-badge.svg\" alt=\"Open In Colab\"/></a>"
      ]
    },
    {
      "cell_type": "code",
      "metadata": {
        "id": "aNagVHvmRgQZ",
        "colab_type": "code",
        "colab": {}
      },
      "source": [
        ""
      ],
      "execution_count": 0,
      "outputs": []
    },
    {
      "cell_type": "markdown",
      "metadata": {
        "id": "aNyZv-Ec52ot",
        "colab_type": "text"
      },
      "source": [
        "# **Import Libraries and modules**"
      ]
    },
    {
      "cell_type": "code",
      "metadata": {
        "id": "3m3w1Cw49Zkt",
        "colab_type": "code",
        "colab": {}
      },
      "source": [
        "# https://keras.io/\n",
        "!pip install -q keras\n",
        "import keras"
      ],
      "execution_count": 0,
      "outputs": []
    },
    {
      "cell_type": "code",
      "metadata": {
        "id": "Eso6UHE080D4",
        "colab_type": "code",
        "colab": {}
      },
      "source": [
        "import numpy as np\n",
        "\n",
        "from keras.models import Sequential\n",
        "from keras.layers import Dense, Dropout, Activation, Flatten, Add\n",
        "from keras.layers import Convolution2D, MaxPooling2D\n",
        "from keras.utils import np_utils\n",
        "\n",
        "from keras.datasets import mnist"
      ],
      "execution_count": 0,
      "outputs": []
    },
    {
      "cell_type": "markdown",
      "metadata": {
        "id": "zByEi95J86RD",
        "colab_type": "text"
      },
      "source": [
        "### Load pre-shuffled MNIST data into train and test sets"
      ]
    },
    {
      "cell_type": "code",
      "metadata": {
        "id": "7eRM0QWN83PV",
        "colab_type": "code",
        "colab": {}
      },
      "source": [
        "(X_train, y_train), (X_test, y_test) = mnist.load_data()"
      ],
      "execution_count": 0,
      "outputs": []
    },
    {
      "cell_type": "code",
      "metadata": {
        "id": "4a4Be72j8-ZC",
        "colab_type": "code",
        "outputId": "5847526a-506e-4862-9801-04f28cdae784",
        "colab": {
          "base_uri": "https://localhost:8080/",
          "height": 303
        }
      },
      "source": [
        "print (X_train.shape)\n",
        "from matplotlib import pyplot as plt\n",
        "%matplotlib inline\n",
        "plt.imshow(X_train[0])"
      ],
      "execution_count": 5,
      "outputs": [
        {
          "output_type": "stream",
          "text": [
            "(60000, 28, 28)\n"
          ],
          "name": "stdout"
        },
        {
          "output_type": "execute_result",
          "data": {
            "text/plain": [
              "<matplotlib.image.AxesImage at 0x7f63022c20b8>"
            ]
          },
          "metadata": {
            "tags": []
          },
          "execution_count": 5
        },
        {
          "output_type": "display_data",
          "data": {
            "image/png": "[encoded data removed]",
            "text/plain": [
              "<Figure size 432x288 with 1 Axes>"
            ]
          },
          "metadata": {
            "tags": []
          }
        }
      ]
    },
    {
      "cell_type": "code",
      "metadata": {
        "id": "dkmprriw9AnZ",
        "colab_type": "code",
        "colab": {}
      },
      "source": [
        "X_train = X_train.reshape(X_train.shape[0], 28, 28,1)\n",
        "X_test = X_test.reshape(X_test.shape[0], 28, 28,1)"
      ],
      "execution_count": 0,
      "outputs": []
    },
    {
      "cell_type": "code",
      "metadata": {
        "id": "X2m4YS4E9CRh",
        "colab_type": "code",
        "colab": {}
      },
      "source": [
        "X_train = X_train.astype('float32')\n",
        "X_test = X_test.astype('float32')\n",
        "X_train /= 255\n",
        "X_test /= 255"
      ],
      "execution_count": 0,
      "outputs": []
    },
    {
      "cell_type": "code",
      "metadata": {
        "id": "0Mn0vAYD9DvB",
        "colab_type": "code",
        "outputId": "dbc73dd7-f2f2-4888-dcae-4c805f6a7969",
        "colab": {
          "base_uri": "https://localhost:8080/",
          "height": 34
        }
      },
      "source": [
        "y_train[:10]"
      ],
      "execution_count": 8,
      "outputs": [
        {
          "output_type": "execute_result",
          "data": {
            "text/plain": [
              "array([5, 0, 4, 1, 9, 2, 1, 3, 1, 4], dtype=uint8)"
            ]
          },
          "metadata": {
            "tags": []
          },
          "execution_count": 8
        }
      ]
    },
    {
      "cell_type": "code",
      "metadata": {
        "id": "ZG8JiXR39FHC",
        "colab_type": "code",
        "colab": {}
      },
      "source": [
        "# Convert 1-dimensional class arrays to 10-dimensional class matrices\n",
        "Y_train = np_utils.to_categorical(y_train, 10)\n",
        "Y_test = np_utils.to_categorical(y_test, 10)"
      ],
      "execution_count": 0,
      "outputs": []
    },
    {
      "cell_type": "code",
      "metadata": {
        "id": "fYlFRvKS9HMB",
        "colab_type": "code",
        "outputId": "298767b8-a2d0-4a08-9895-5f8ed9fc5218",
        "colab": {
          "base_uri": "https://localhost:8080/",
          "height": 187
        }
      },
      "source": [
        "Y_train[:10]\n"
      ],
      "execution_count": 10,
      "outputs": [
        {
          "output_type": "execute_result",
          "data": {
            "text/plain": [
              "array([[0., 0., 0., 0., 0., 1., 0., 0., 0., 0.],\n",
              "       [1., 0., 0., 0., 0., 0., 0., 0., 0., 0.],\n",
              "       [0., 0., 0., 0., 1., 0., 0., 0., 0., 0.],\n",
              "       [0., 1., 0., 0., 0., 0., 0., 0., 0., 0.],\n",
              "       [0., 0., 0., 0., 0., 0., 0., 0., 0., 1.],\n",
              "       [0., 0., 1., 0., 0., 0., 0., 0., 0., 0.],\n",
              "       [0., 1., 0., 0., 0., 0., 0., 0., 0., 0.],\n",
              "       [0., 0., 0., 1., 0., 0., 0., 0., 0., 0.],\n",
              "       [0., 1., 0., 0., 0., 0., 0., 0., 0., 0.],\n",
              "       [0., 0., 0., 0., 1., 0., 0., 0., 0., 0.]], dtype=float32)"
            ]
          },
          "metadata": {
            "tags": []
          },
          "execution_count": 10
        }
      ]
    },
    {
      "cell_type": "code",
      "metadata": {
        "id": "Mw7ZpYUARZnK",
        "colab_type": "code",
        "colab": {}
      },
      "source": [
        ""
      ],
      "execution_count": 0,
      "outputs": []
    },
    {
      "cell_type": "code",
      "metadata": {
        "id": "osKqT73Q9JJB",
        "colab_type": "code",
        "outputId": "8fcb685b-ad10-4754-b697-0e0e69e50ef3",
        "colab": {
          "base_uri": "https://localhost:8080/",
          "height": 8996
        }
      },
      "source": [
        "from keras.layers import Activation\n",
        "model = Sequential()\n",
        "\n",
        "k=1\n",
        "f=16\n",
        "input=28\n",
        "\n",
        "while (k < input):\n",
        "  model = Sequential()\n",
        "  model.add(Convolution2D(f, k, k, activation='relu', input_shape=(28,28,1)))\n",
        "  #model.add(Convolution2D(32, 3, 3, activation='relu', input_shape=(28,28,1)))\n",
        "\n",
        "  model.add(Convolution2D(10, 1, activation='relu'))\n",
        "\n",
        "  model.add(Convolution2D(10, input-k+1))\n",
        "  #model.add(Convolution2D(10, 26))\n",
        "\n",
        "  model.add(Flatten())\n",
        "  model.add(Activation('softmax'))\n",
        "  model.summary()\n",
        "  model.compile(loss='categorical_crossentropy',\n",
        "             optimizer='adam',\n",
        "             metrics=['accuracy'])\n",
        "  model.fit(X_train, Y_train, batch_size=32, nb_epoch=10, verbose=1)\n",
        "  score = model.evaluate(X_test, Y_test, verbose=0)\n",
        "  print('Score-->', score)\n",
        "  k=k+2\n"
      ],
      "execution_count": 12,
      "outputs": [
        {
          "output_type": "stream",
          "text": [
            "/usr/local/lib/python3.6/dist-packages/ipykernel_launcher.py:10: UserWarning: Update your `Conv2D` call to the Keras 2 API: `Conv2D(16, (1, 1), activation=\"relu\", input_shape=(28, 28, 1...)`\n",
            "  # Remove the CWD from sys.path while we load stuff.\n",
            "/usr/local/lib/python3.6/dist-packages/ipykernel_launcher.py:24: UserWarning: The `nb_epoch` argument in `fit` has been renamed `epochs`.\n"
          ],
          "name": "stderr"
        },
        {
          "output_type": "stream",
          "text": [
            "_________________________________________________________________\n",
            "Layer (type)                 Output Shape              Param #   \n",
            "=================================================================\n",
            "conv2d_7 (Conv2D)            (None, 28, 28, 16)        32        \n",
            "_________________________________________________________________\n",
            "conv2d_8 (Conv2D)            (None, 28, 28, 10)        170       \n",
            "_________________________________________________________________\n",
            "conv2d_9 (Conv2D)            (None, 1, 1, 10)          78410     \n",
            "_________________________________________________________________\n",
            "flatten_3 (Flatten)          (None, 10)                0         \n",
            "_________________________________________________________________\n",
            "activation_3 (Activation)    (None, 10)                0         \n",
            "=================================================================\n",
            "Total params: 78,612\n",
            "Trainable params: 78,612\n",
            "Non-trainable params: 0\n",
            "_________________________________________________________________\n",
            "Epoch 1/10\n",
            "60000/60000 [==============================] - 7s 119us/step - loss: 0.3658 - acc: 0.8980\n",
            "Epoch 2/10\n",
            "60000/60000 [==============================] - 7s 111us/step - loss: 0.2802 - acc: 0.9206\n",
            "Epoch 3/10\n",
            "60000/60000 [==============================] - 8s 137us/step - loss: 0.2661 - acc: 0.9242\n",
            "Epoch 4/10\n",
            "60000/60000 [==============================] - 7s 117us/step - loss: 0.2570 - acc: 0.9273\n",
            "Epoch 5/10\n",
            "60000/60000 [==============================] - 8s 135us/step - loss: 0.2458 - acc: 0.9307\n",
            "Epoch 6/10\n",
            "60000/60000 [==============================] - 7s 111us/step - loss: 0.2366 - acc: 0.9338\n",
            "Epoch 7/10\n",
            "60000/60000 [==============================] - 7s 109us/step - loss: 0.2268 - acc: 0.9360\n",
            "Epoch 8/10\n",
            "60000/60000 [==============================] - 7s 110us/step - loss: 0.2196 - acc: 0.9379\n",
            "Epoch 9/10\n",
            "60000/60000 [==============================] - 7s 110us/step - loss: 0.2129 - acc: 0.9398\n",
            "Epoch 10/10\n",
            "60000/60000 [==============================] - 7s 110us/step - loss: 0.2063 - acc: 0.9410\n",
            "Score--> [0.23624450395703317, 0.9352]\n",
            "_________________________________________________________________\n",
            "Layer (type)                 Output Shape              Param #   \n",
            "=================================================================\n",
            "conv2d_10 (Conv2D)           (None, 26, 26, 16)        160       \n",
            "_________________________________________________________________\n",
            "conv2d_11 (Conv2D)           (None, 26, 26, 10)        170       \n",
            "_________________________________________________________________\n",
            "conv2d_12 (Conv2D)           (None, 1, 1, 10)          67610     \n",
            "_________________________________________________________________\n",
            "flatten_4 (Flatten)          (None, 10)                0         \n",
            "_________________________________________________________________\n",
            "activation_4 (Activation)    (None, 10)                0         \n",
            "=================================================================\n",
            "Total params: 67,940\n",
            "Trainable params: 67,940\n",
            "Non-trainable params: 0\n",
            "_________________________________________________________________\n"
          ],
          "name": "stdout"
        },
        {
          "output_type": "stream",
          "text": [
            "/usr/local/lib/python3.6/dist-packages/ipykernel_launcher.py:10: UserWarning: Update your `Conv2D` call to the Keras 2 API: `Conv2D(16, (3, 3), activation=\"relu\", input_shape=(28, 28, 1...)`\n",
            "  # Remove the CWD from sys.path while we load stuff.\n"
          ],
          "name": "stderr"
        },
        {
          "output_type": "stream",
          "text": [
            "Epoch 1/10\n",
            "60000/60000 [==============================] - 7s 114us/step - loss: 0.2018 - acc: 0.9416\n",
            "Epoch 2/10\n",
            "60000/60000 [==============================] - 11s 181us/step - loss: 0.0732 - acc: 0.9779\n",
            "Epoch 3/10\n",
            "60000/60000 [==============================] - 14s 232us/step - loss: 0.0543 - acc: 0.9833\n",
            "Epoch 4/10\n",
            "60000/60000 [==============================] - 13s 218us/step - loss: 0.0434 - acc: 0.9866\n",
            "Epoch 5/10\n",
            "60000/60000 [==============================] - 13s 219us/step - loss: 0.0347 - acc: 0.9891\n",
            "Epoch 6/10\n",
            "60000/60000 [==============================] - 13s 216us/step - loss: 0.0295 - acc: 0.9902\n",
            "Epoch 7/10\n",
            "60000/60000 [==============================] - 13s 215us/step - loss: 0.0228 - acc: 0.9930\n",
            "Epoch 8/10\n",
            "60000/60000 [==============================] - 14s 226us/step - loss: 0.0210 - acc: 0.9931\n",
            "Epoch 9/10\n",
            "60000/60000 [==============================] - 14s 235us/step - loss: 0.0154 - acc: 0.9951\n",
            "Epoch 10/10\n",
            "60000/60000 [==============================] - 13s 215us/step - loss: 0.0135 - acc: 0.9957\n",
            "Score--> [0.07366296836000256, 0.983]\n",
            "_________________________________________________________________\n",
            "Layer (type)                 Output Shape              Param #   \n",
            "=================================================================\n",
            "conv2d_13 (Conv2D)           (None, 24, 24, 16)        416       \n",
            "_________________________________________________________________\n",
            "conv2d_14 (Conv2D)           (None, 24, 24, 10)        170       \n",
            "_________________________________________________________________\n",
            "conv2d_15 (Conv2D)           (None, 1, 1, 10)          57610     \n",
            "_________________________________________________________________\n",
            "flatten_5 (Flatten)          (None, 10)                0         \n",
            "_________________________________________________________________\n",
            "activation_5 (Activation)    (None, 10)                0         \n",
            "=================================================================\n",
            "Total params: 58,196\n",
            "Trainable params: 58,196\n",
            "Non-trainable params: 0\n",
            "_________________________________________________________________\n"
          ],
          "name": "stdout"
        },
        {
          "output_type": "stream",
          "text": [
            "/usr/local/lib/python3.6/dist-packages/ipykernel_launcher.py:10: UserWarning: Update your `Conv2D` call to the Keras 2 API: `Conv2D(16, (5, 5), activation=\"relu\", input_shape=(28, 28, 1...)`\n",
            "  # Remove the CWD from sys.path while we load stuff.\n"
          ],
          "name": "stderr"
        },
        {
          "output_type": "stream",
          "text": [
            "Epoch 1/10\n",
            "60000/60000 [==============================] - 13s 224us/step - loss: 0.1796 - acc: 0.9485\n",
            "Epoch 2/10\n",
            "60000/60000 [==============================] - 8s 125us/step - loss: 0.0689 - acc: 0.9796\n",
            "Epoch 3/10\n",
            "60000/60000 [==============================] - 7s 109us/step - loss: 0.0501 - acc: 0.9844\n",
            "Epoch 4/10\n",
            "60000/60000 [==============================] - 7s 109us/step - loss: 0.0382 - acc: 0.9880\n",
            "Epoch 5/10\n",
            "60000/60000 [==============================] - 7s 109us/step - loss: 0.0304 - acc: 0.9901\n",
            "Epoch 6/10\n",
            "60000/60000 [==============================] - 7s 111us/step - loss: 0.0228 - acc: 0.9927\n",
            "Epoch 7/10\n",
            "60000/60000 [==============================] - 7s 109us/step - loss: 0.0195 - acc: 0.9933\n",
            "Epoch 8/10\n",
            "60000/60000 [==============================] - 7s 117us/step - loss: 0.0153 - acc: 0.9953\n",
            "Epoch 9/10\n",
            "60000/60000 [==============================] - 8s 128us/step - loss: 0.0124 - acc: 0.9959\n",
            "Epoch 10/10\n",
            "60000/60000 [==============================] - 11s 186us/step - loss: 0.0114 - acc: 0.9964\n",
            "Score--> [0.06475854177659313, 0.9839]\n",
            "_________________________________________________________________\n",
            "Layer (type)                 Output Shape              Param #   \n",
            "=================================================================\n",
            "conv2d_16 (Conv2D)           (None, 22, 22, 16)        800       \n",
            "_________________________________________________________________\n",
            "conv2d_17 (Conv2D)           (None, 22, 22, 10)        170       \n",
            "_________________________________________________________________\n",
            "conv2d_18 (Conv2D)           (None, 1, 1, 10)          48410     \n",
            "_________________________________________________________________\n",
            "flatten_6 (Flatten)          (None, 10)                0         \n",
            "_________________________________________________________________\n",
            "activation_6 (Activation)    (None, 10)                0         \n",
            "=================================================================\n",
            "Total params: 49,380\n",
            "Trainable params: 49,380\n",
            "Non-trainable params: 0\n",
            "_________________________________________________________________\n"
          ],
          "name": "stdout"
        },
        {
          "output_type": "stream",
          "text": [
            "/usr/local/lib/python3.6/dist-packages/ipykernel_launcher.py:10: UserWarning: Update your `Conv2D` call to the Keras 2 API: `Conv2D(16, (7, 7), activation=\"relu\", input_shape=(28, 28, 1...)`\n",
            "  # Remove the CWD from sys.path while we load stuff.\n"
          ],
          "name": "stderr"
        },
        {
          "output_type": "stream",
          "text": [
            "Epoch 1/10\n",
            "60000/60000 [==============================] - 14s 226us/step - loss: 0.1599 - acc: 0.9528\n",
            "Epoch 2/10\n",
            "60000/60000 [==============================] - 13s 216us/step - loss: 0.0618 - acc: 0.9815\n",
            "Epoch 3/10\n",
            "60000/60000 [==============================] - 13s 213us/step - loss: 0.0450 - acc: 0.9861\n",
            "Epoch 4/10\n",
            "60000/60000 [==============================] - 13s 217us/step - loss: 0.0354 - acc: 0.9888\n",
            "Epoch 5/10\n",
            "60000/60000 [==============================] - 15s 244us/step - loss: 0.0271 - acc: 0.9911\n",
            "Epoch 6/10\n",
            "60000/60000 [==============================] - 14s 225us/step - loss: 0.0213 - acc: 0.9927\n",
            "Epoch 7/10\n",
            "60000/60000 [==============================] - 13s 213us/step - loss: 0.0167 - acc: 0.9945\n",
            "Epoch 8/10\n",
            "60000/60000 [==============================] - 13s 213us/step - loss: 0.0143 - acc: 0.9955\n",
            "Epoch 9/10\n",
            "60000/60000 [==============================] - 13s 213us/step - loss: 0.0116 - acc: 0.9960\n",
            "Epoch 10/10\n",
            "60000/60000 [==============================] - 7s 109us/step - loss: 0.0090 - acc: 0.9970\n",
            "Score--> [0.059575544999540854, 0.9862]\n",
            "_________________________________________________________________\n",
            "Layer (type)                 Output Shape              Param #   \n",
            "=================================================================\n",
            "conv2d_19 (Conv2D)           (None, 20, 20, 16)        1312      \n",
            "_________________________________________________________________\n",
            "conv2d_20 (Conv2D)           (None, 20, 20, 10)        170       \n",
            "_________________________________________________________________\n",
            "conv2d_21 (Conv2D)           (None, 1, 1, 10)          40010     \n",
            "_________________________________________________________________\n",
            "flatten_7 (Flatten)          (None, 10)                0         \n",
            "_________________________________________________________________\n",
            "activation_7 (Activation)    (None, 10)                0         \n",
            "=================================================================\n",
            "Total params: 41,492\n",
            "Trainable params: 41,492\n",
            "Non-trainable params: 0\n",
            "_________________________________________________________________\n"
          ],
          "name": "stdout"
        },
        {
          "output_type": "stream",
          "text": [
            "/usr/local/lib/python3.6/dist-packages/ipykernel_launcher.py:10: UserWarning: Update your `Conv2D` call to the Keras 2 API: `Conv2D(16, (9, 9), activation=\"relu\", input_shape=(28, 28, 1...)`\n",
            "  # Remove the CWD from sys.path while we load stuff.\n"
          ],
          "name": "stderr"
        },
        {
          "output_type": "stream",
          "text": [
            "Epoch 1/10\n",
            "60000/60000 [==============================] - 7s 116us/step - loss: 0.1674 - acc: 0.9510\n",
            "Epoch 2/10\n",
            "60000/60000 [==============================] - 7s 118us/step - loss: 0.0671 - acc: 0.9796\n",
            "Epoch 3/10\n",
            "60000/60000 [==============================] - 8s 126us/step - loss: 0.0499 - acc: 0.9850\n",
            "Epoch 4/10\n",
            "60000/60000 [==============================] - 6s 108us/step - loss: 0.0386 - acc: 0.9881\n",
            "Epoch 5/10\n",
            "60000/60000 [==============================] - 7s 116us/step - loss: 0.0311 - acc: 0.9903\n",
            "Epoch 6/10\n",
            "60000/60000 [==============================] - 7s 109us/step - loss: 0.0244 - acc: 0.9921\n",
            "Epoch 7/10\n",
            "60000/60000 [==============================] - 7s 109us/step - loss: 0.0201 - acc: 0.9936\n",
            "Epoch 8/10\n",
            "60000/60000 [==============================] - 7s 108us/step - loss: 0.0158 - acc: 0.9947\n",
            "Epoch 9/10\n",
            "60000/60000 [==============================] - 7s 113us/step - loss: 0.0125 - acc: 0.9959\n",
            "Epoch 10/10\n",
            "60000/60000 [==============================] - 7s 119us/step - loss: 0.0115 - acc: 0.9963\n",
            "Score--> [0.06816286573295147, 0.9836]\n",
            "_________________________________________________________________\n",
            "Layer (type)                 Output Shape              Param #   \n",
            "=================================================================\n",
            "conv2d_22 (Conv2D)           (None, 18, 18, 16)        1952      \n",
            "_________________________________________________________________\n",
            "conv2d_23 (Conv2D)           (None, 18, 18, 10)        170       \n",
            "_________________________________________________________________\n",
            "conv2d_24 (Conv2D)           (None, 1, 1, 10)          32410     \n",
            "_________________________________________________________________\n",
            "flatten_8 (Flatten)          (None, 10)                0         \n",
            "_________________________________________________________________\n",
            "activation_8 (Activation)    (None, 10)                0         \n",
            "=================================================================\n",
            "Total params: 34,532\n",
            "Trainable params: 34,532\n",
            "Non-trainable params: 0\n",
            "_________________________________________________________________\n"
          ],
          "name": "stdout"
        },
        {
          "output_type": "stream",
          "text": [
            "/usr/local/lib/python3.6/dist-packages/ipykernel_launcher.py:10: UserWarning: Update your `Conv2D` call to the Keras 2 API: `Conv2D(16, (11, 11), activation=\"relu\", input_shape=(28, 28, 1...)`\n",
            "  # Remove the CWD from sys.path while we load stuff.\n"
          ],
          "name": "stderr"
        },
        {
          "output_type": "stream",
          "text": [
            "Epoch 1/10\n",
            "60000/60000 [==============================] - 7s 116us/step - loss: 0.1781 - acc: 0.9465\n",
            "Epoch 2/10\n",
            "60000/60000 [==============================] - 7s 109us/step - loss: 0.0658 - acc: 0.9800\n",
            "Epoch 3/10\n",
            "60000/60000 [==============================] - 6s 108us/step - loss: 0.0499 - acc: 0.9849\n",
            "Epoch 4/10\n",
            "60000/60000 [==============================] - 7s 123us/step - loss: 0.0389 - acc: 0.9876\n",
            "Epoch 5/10\n",
            "60000/60000 [==============================] - 7s 119us/step - loss: 0.0335 - acc: 0.9891\n",
            "Epoch 6/10\n",
            "60000/60000 [==============================] - 6s 108us/step - loss: 0.0247 - acc: 0.9923\n",
            "Epoch 7/10\n",
            "60000/60000 [==============================] - 7s 109us/step - loss: 0.0225 - acc: 0.9925\n",
            "Epoch 8/10\n",
            "60000/60000 [==============================] - 6s 108us/step - loss: 0.0172 - acc: 0.9941\n",
            "Epoch 9/10\n",
            "60000/60000 [==============================] - 6s 108us/step - loss: 0.0152 - acc: 0.9946\n",
            "Epoch 10/10\n",
            "60000/60000 [==============================] - 7s 108us/step - loss: 0.0139 - acc: 0.9955\n",
            "Score--> [0.05009779596199669, 0.9863]\n",
            "_________________________________________________________________\n",
            "Layer (type)                 Output Shape              Param #   \n",
            "=================================================================\n",
            "conv2d_25 (Conv2D)           (None, 16, 16, 16)        2720      \n",
            "_________________________________________________________________\n",
            "conv2d_26 (Conv2D)           (None, 16, 16, 10)        170       \n",
            "_________________________________________________________________\n",
            "conv2d_27 (Conv2D)           (None, 1, 1, 10)          25610     \n",
            "_________________________________________________________________\n",
            "flatten_9 (Flatten)          (None, 10)                0         \n",
            "_________________________________________________________________\n",
            "activation_9 (Activation)    (None, 10)                0         \n",
            "=================================================================\n",
            "Total params: 28,500\n",
            "Trainable params: 28,500\n",
            "Non-trainable params: 0\n",
            "_________________________________________________________________\n"
          ],
          "name": "stdout"
        },
        {
          "output_type": "stream",
          "text": [
            "/usr/local/lib/python3.6/dist-packages/ipykernel_launcher.py:10: UserWarning: Update your `Conv2D` call to the Keras 2 API: `Conv2D(16, (13, 13), activation=\"relu\", input_shape=(28, 28, 1...)`\n",
            "  # Remove the CWD from sys.path while we load stuff.\n"
          ],
          "name": "stderr"
        },
        {
          "output_type": "stream",
          "text": [
            "Epoch 1/10\n",
            "60000/60000 [==============================] - 7s 118us/step - loss: 0.1801 - acc: 0.9464\n",
            "Epoch 2/10\n",
            "60000/60000 [==============================] - 7s 109us/step - loss: 0.0708 - acc: 0.9785\n",
            "Epoch 3/10\n",
            "60000/60000 [==============================] - 7s 108us/step - loss: 0.0532 - acc: 0.9832\n",
            "Epoch 4/10\n",
            "60000/60000 [==============================] - 7s 109us/step - loss: 0.0412 - acc: 0.9870\n",
            "Epoch 5/10\n",
            "60000/60000 [==============================] - 7s 109us/step - loss: 0.0355 - acc: 0.9886\n",
            "Epoch 6/10\n",
            "60000/60000 [==============================] - 8s 125us/step - loss: 0.0291 - acc: 0.9908\n",
            "Epoch 7/10\n",
            "60000/60000 [==============================] - 7s 118us/step - loss: 0.0243 - acc: 0.9919\n",
            "Epoch 8/10\n",
            "60000/60000 [==============================] - 7s 110us/step - loss: 0.0218 - acc: 0.9928\n",
            "Epoch 9/10\n",
            "60000/60000 [==============================] - 7s 110us/step - loss: 0.0165 - acc: 0.9941\n",
            "Epoch 10/10\n",
            "60000/60000 [==============================] - 7s 109us/step - loss: 0.0152 - acc: 0.9949\n",
            "Score--> [0.0756676073707742, 0.9825]\n",
            "_________________________________________________________________\n",
            "Layer (type)                 Output Shape              Param #   \n",
            "=================================================================\n",
            "conv2d_28 (Conv2D)           (None, 14, 14, 16)        3616      \n",
            "_________________________________________________________________\n",
            "conv2d_29 (Conv2D)           (None, 14, 14, 10)        170       \n",
            "_________________________________________________________________\n",
            "conv2d_30 (Conv2D)           (None, 1, 1, 10)          19610     \n",
            "_________________________________________________________________\n",
            "flatten_10 (Flatten)         (None, 10)                0         \n",
            "_________________________________________________________________\n",
            "activation_10 (Activation)   (None, 10)                0         \n",
            "=================================================================\n",
            "Total params: 23,396\n",
            "Trainable params: 23,396\n",
            "Non-trainable params: 0\n",
            "_________________________________________________________________\n"
          ],
          "name": "stdout"
        },
        {
          "output_type": "stream",
          "text": [
            "/usr/local/lib/python3.6/dist-packages/ipykernel_launcher.py:10: UserWarning: Update your `Conv2D` call to the Keras 2 API: `Conv2D(16, (15, 15), activation=\"relu\", input_shape=(28, 28, 1...)`\n",
            "  # Remove the CWD from sys.path while we load stuff.\n"
          ],
          "name": "stderr"
        },
        {
          "output_type": "stream",
          "text": [
            "Epoch 1/10\n",
            "60000/60000 [==============================] - 7s 116us/step - loss: 0.2094 - acc: 0.9377\n",
            "Epoch 2/10\n",
            "60000/60000 [==============================] - 7s 109us/step - loss: 0.0840 - acc: 0.9745\n",
            "Epoch 3/10\n",
            "60000/60000 [==============================] - 7s 109us/step - loss: 0.0620 - acc: 0.9808\n",
            "Epoch 4/10\n",
            "60000/60000 [==============================] - 6s 108us/step - loss: 0.0516 - acc: 0.9841\n",
            "Epoch 5/10\n",
            "60000/60000 [==============================] - 7s 109us/step - loss: 0.0427 - acc: 0.9863\n",
            "Epoch 6/10\n",
            "60000/60000 [==============================] - 7s 115us/step - loss: 0.0372 - acc: 0.9878\n",
            "Epoch 7/10\n",
            "60000/60000 [==============================] - 8s 134us/step - loss: 0.0310 - acc: 0.9899\n",
            "Epoch 8/10\n",
            "60000/60000 [==============================] - 8s 128us/step - loss: 0.0283 - acc: 0.9909\n",
            "Epoch 9/10\n",
            "60000/60000 [==============================] - 7s 110us/step - loss: 0.0241 - acc: 0.9918\n",
            "Epoch 10/10\n",
            "60000/60000 [==============================] - 7s 108us/step - loss: 0.0221 - acc: 0.9927\n",
            "Score--> [0.058493642630044904, 0.9845]\n",
            "_________________________________________________________________\n",
            "Layer (type)                 Output Shape              Param #   \n",
            "=================================================================\n",
            "conv2d_31 (Conv2D)           (None, 12, 12, 16)        4640      \n",
            "_________________________________________________________________\n",
            "conv2d_32 (Conv2D)           (None, 12, 12, 10)        170       \n",
            "_________________________________________________________________\n",
            "conv2d_33 (Conv2D)           (None, 1, 1, 10)          14410     \n",
            "_________________________________________________________________\n",
            "flatten_11 (Flatten)         (None, 10)                0         \n",
            "_________________________________________________________________\n",
            "activation_11 (Activation)   (None, 10)                0         \n",
            "=================================================================\n",
            "Total params: 19,220\n",
            "Trainable params: 19,220\n",
            "Non-trainable params: 0\n",
            "_________________________________________________________________\n"
          ],
          "name": "stdout"
        },
        {
          "output_type": "stream",
          "text": [
            "/usr/local/lib/python3.6/dist-packages/ipykernel_launcher.py:10: UserWarning: Update your `Conv2D` call to the Keras 2 API: `Conv2D(16, (17, 17), activation=\"relu\", input_shape=(28, 28, 1...)`\n",
            "  # Remove the CWD from sys.path while we load stuff.\n"
          ],
          "name": "stderr"
        },
        {
          "output_type": "stream",
          "text": [
            "Epoch 1/10\n",
            "60000/60000 [==============================] - 7s 117us/step - loss: 0.2284 - acc: 0.9325\n",
            "Epoch 2/10\n",
            "60000/60000 [==============================] - 6s 108us/step - loss: 0.0960 - acc: 0.9709\n",
            "Epoch 3/10\n",
            "60000/60000 [==============================] - 6s 108us/step - loss: 0.0740 - acc: 0.9776\n",
            "Epoch 4/10\n",
            "60000/60000 [==============================] - 6s 108us/step - loss: 0.0622 - acc: 0.9808\n",
            "Epoch 5/10\n",
            "60000/60000 [==============================] - 6s 107us/step - loss: 0.0530 - acc: 0.9832\n",
            "Epoch 6/10\n",
            "60000/60000 [==============================] - 6s 108us/step - loss: 0.0467 - acc: 0.9856\n",
            "Epoch 7/10\n",
            "60000/60000 [==============================] - 6s 107us/step - loss: 0.0414 - acc: 0.9871\n",
            "Epoch 8/10\n",
            "60000/60000 [==============================] - 6s 108us/step - loss: 0.0365 - acc: 0.9884\n",
            "Epoch 9/10\n",
            "60000/60000 [==============================] - 7s 114us/step - loss: 0.0329 - acc: 0.9888\n",
            "Epoch 10/10\n",
            "60000/60000 [==============================] - 8s 126us/step - loss: 0.0288 - acc: 0.9907\n",
            "Score--> [0.07045953097223537, 0.9812]\n",
            "_________________________________________________________________\n",
            "Layer (type)                 Output Shape              Param #   \n",
            "=================================================================\n",
            "conv2d_34 (Conv2D)           (None, 10, 10, 16)        5792      \n",
            "_________________________________________________________________\n",
            "conv2d_35 (Conv2D)           (None, 10, 10, 10)        170       \n",
            "_________________________________________________________________\n",
            "conv2d_36 (Conv2D)           (None, 1, 1, 10)          10010     \n",
            "_________________________________________________________________\n",
            "flatten_12 (Flatten)         (None, 10)                0         \n",
            "_________________________________________________________________\n",
            "activation_12 (Activation)   (None, 10)                0         \n",
            "=================================================================\n",
            "Total params: 15,972\n",
            "Trainable params: 15,972\n",
            "Non-trainable params: 0\n",
            "_________________________________________________________________\n"
          ],
          "name": "stdout"
        },
        {
          "output_type": "stream",
          "text": [
            "/usr/local/lib/python3.6/dist-packages/ipykernel_launcher.py:10: UserWarning: Update your `Conv2D` call to the Keras 2 API: `Conv2D(16, (19, 19), activation=\"relu\", input_shape=(28, 28, 1...)`\n",
            "  # Remove the CWD from sys.path while we load stuff.\n"
          ],
          "name": "stderr"
        },
        {
          "output_type": "stream",
          "text": [
            "Epoch 1/10\n",
            "60000/60000 [==============================] - 7s 118us/step - loss: 0.2645 - acc: 0.9213\n",
            "Epoch 2/10\n",
            "60000/60000 [==============================] - 6s 108us/step - loss: 0.1098 - acc: 0.9670\n",
            "Epoch 3/10\n",
            "60000/60000 [==============================] - 7s 109us/step - loss: 0.0844 - acc: 0.9750\n",
            "Epoch 4/10\n",
            "60000/60000 [==============================] - 7s 123us/step - loss: 0.0710 - acc: 0.9787\n",
            "Epoch 5/10\n",
            "60000/60000 [==============================] - 6s 108us/step - loss: 0.0624 - acc: 0.9806\n",
            "Epoch 6/10\n",
            "60000/60000 [==============================] - 7s 109us/step - loss: 0.0552 - acc: 0.9829\n",
            "Epoch 7/10\n",
            "60000/60000 [==============================] - 7s 108us/step - loss: 0.0493 - acc: 0.9842\n",
            "Epoch 8/10\n",
            "60000/60000 [==============================] - 7s 109us/step - loss: 0.0450 - acc: 0.9860\n",
            "Epoch 9/10\n",
            "60000/60000 [==============================] - 6s 108us/step - loss: 0.0387 - acc: 0.9877\n",
            "Epoch 10/10\n",
            "60000/60000 [==============================] - 7s 109us/step - loss: 0.0374 - acc: 0.9881\n",
            "Score--> [0.062107110785276747, 0.982]\n",
            "_________________________________________________________________\n",
            "Layer (type)                 Output Shape              Param #   \n",
            "=================================================================\n",
            "conv2d_37 (Conv2D)           (None, 8, 8, 16)          7072      \n",
            "_________________________________________________________________\n",
            "conv2d_38 (Conv2D)           (None, 8, 8, 10)          170       \n",
            "_________________________________________________________________\n",
            "conv2d_39 (Conv2D)           (None, 1, 1, 10)          6410      \n",
            "_________________________________________________________________\n",
            "flatten_13 (Flatten)         (None, 10)                0         \n",
            "_________________________________________________________________\n",
            "activation_13 (Activation)   (None, 10)                0         \n",
            "=================================================================\n",
            "Total params: 13,652\n",
            "Trainable params: 13,652\n",
            "Non-trainable params: 0\n",
            "_________________________________________________________________\n"
          ],
          "name": "stdout"
        },
        {
          "output_type": "stream",
          "text": [
            "/usr/local/lib/python3.6/dist-packages/ipykernel_launcher.py:10: UserWarning: Update your `Conv2D` call to the Keras 2 API: `Conv2D(16, (21, 21), activation=\"relu\", input_shape=(28, 28, 1...)`\n",
            "  # Remove the CWD from sys.path while we load stuff.\n"
          ],
          "name": "stderr"
        },
        {
          "output_type": "stream",
          "text": [
            "Epoch 1/10\n",
            "60000/60000 [==============================] - 8s 134us/step - loss: 0.2740 - acc: 0.9196\n",
            "Epoch 2/10\n",
            "60000/60000 [==============================] - 7s 118us/step - loss: 0.1293 - acc: 0.9611\n",
            "Epoch 3/10\n",
            "60000/60000 [==============================] - 7s 110us/step - loss: 0.1014 - acc: 0.9693\n",
            "Epoch 4/10\n",
            "60000/60000 [==============================] - 7s 110us/step - loss: 0.0877 - acc: 0.9736\n",
            "Epoch 5/10\n",
            "60000/60000 [==============================] - 7s 110us/step - loss: 0.0769 - acc: 0.9764\n",
            "Epoch 6/10\n",
            "60000/60000 [==============================] - 7s 109us/step - loss: 0.0698 - acc: 0.9780\n",
            "Epoch 7/10\n",
            "60000/60000 [==============================] - 7s 109us/step - loss: 0.0639 - acc: 0.9800\n",
            "Epoch 8/10\n",
            "60000/60000 [==============================] - 6s 108us/step - loss: 0.0558 - acc: 0.9822\n",
            "Epoch 9/10\n",
            "60000/60000 [==============================] - 6s 108us/step - loss: 0.0533 - acc: 0.9831\n",
            "Epoch 10/10\n",
            "60000/60000 [==============================] - 7s 109us/step - loss: 0.0478 - acc: 0.9845\n",
            "Score--> [0.08521762737054378, 0.9788]\n",
            "_________________________________________________________________\n",
            "Layer (type)                 Output Shape              Param #   \n",
            "=================================================================\n",
            "conv2d_40 (Conv2D)           (None, 6, 6, 16)          8480      \n",
            "_________________________________________________________________\n",
            "conv2d_41 (Conv2D)           (None, 6, 6, 10)          170       \n",
            "_________________________________________________________________\n",
            "conv2d_42 (Conv2D)           (None, 1, 1, 10)          3610      \n",
            "_________________________________________________________________\n",
            "flatten_14 (Flatten)         (None, 10)                0         \n",
            "_________________________________________________________________\n",
            "activation_14 (Activation)   (None, 10)                0         \n",
            "=================================================================\n",
            "Total params: 12,260\n",
            "Trainable params: 12,260\n",
            "Non-trainable params: 0\n",
            "_________________________________________________________________\n"
          ],
          "name": "stdout"
        },
        {
          "output_type": "stream",
          "text": [
            "/usr/local/lib/python3.6/dist-packages/ipykernel_launcher.py:10: UserWarning: Update your `Conv2D` call to the Keras 2 API: `Conv2D(16, (23, 23), activation=\"relu\", input_shape=(28, 28, 1...)`\n",
            "  # Remove the CWD from sys.path while we load stuff.\n"
          ],
          "name": "stderr"
        },
        {
          "output_type": "stream",
          "text": [
            "Epoch 1/10\n",
            "60000/60000 [==============================] - 7s 120us/step - loss: 0.3451 - acc: 0.8994\n",
            "Epoch 2/10\n",
            "60000/60000 [==============================] - 7s 109us/step - loss: 0.1850 - acc: 0.9446\n",
            "Epoch 3/10\n",
            "60000/60000 [==============================] - 8s 125us/step - loss: 0.1463 - acc: 0.9564\n",
            "Epoch 4/10\n",
            "60000/60000 [==============================] - 7s 115us/step - loss: 0.1249 - acc: 0.9622\n",
            "Epoch 5/10\n",
            "60000/60000 [==============================] - 7s 109us/step - loss: 0.1096 - acc: 0.9669\n",
            "Epoch 6/10\n",
            "60000/60000 [==============================] - 7s 109us/step - loss: 0.0973 - acc: 0.9698\n",
            "Epoch 7/10\n",
            "60000/60000 [==============================] - 6s 108us/step - loss: 0.0891 - acc: 0.9726\n",
            "Epoch 8/10\n",
            "60000/60000 [==============================] - 6s 108us/step - loss: 0.0821 - acc: 0.9749\n",
            "Epoch 9/10\n",
            "60000/60000 [==============================] - 6s 108us/step - loss: 0.0765 - acc: 0.9763\n",
            "Epoch 10/10\n",
            "60000/60000 [==============================] - 6s 108us/step - loss: 0.0688 - acc: 0.9783\n",
            "Score--> [0.10109197711693123, 0.9719]\n",
            "_________________________________________________________________\n",
            "Layer (type)                 Output Shape              Param #   \n",
            "=================================================================\n",
            "conv2d_43 (Conv2D)           (None, 4, 4, 16)          10016     \n",
            "_________________________________________________________________\n",
            "conv2d_44 (Conv2D)           (None, 4, 4, 10)          170       \n",
            "_________________________________________________________________\n",
            "conv2d_45 (Conv2D)           (None, 1, 1, 10)          1610      \n",
            "_________________________________________________________________\n",
            "flatten_15 (Flatten)         (None, 10)                0         \n",
            "_________________________________________________________________\n",
            "activation_15 (Activation)   (None, 10)                0         \n",
            "=================================================================\n",
            "Total params: 11,796\n",
            "Trainable params: 11,796\n",
            "Non-trainable params: 0\n",
            "_________________________________________________________________\n"
          ],
          "name": "stdout"
        },
        {
          "output_type": "stream",
          "text": [
            "/usr/local/lib/python3.6/dist-packages/ipykernel_launcher.py:10: UserWarning: Update your `Conv2D` call to the Keras 2 API: `Conv2D(16, (25, 25), activation=\"relu\", input_shape=(28, 28, 1...)`\n",
            "  # Remove the CWD from sys.path while we load stuff.\n"
          ],
          "name": "stderr"
        },
        {
          "output_type": "stream",
          "text": [
            "Epoch 1/10\n",
            "60000/60000 [==============================] - 7s 122us/step - loss: 0.3423 - acc: 0.8988\n",
            "Epoch 2/10\n",
            "60000/60000 [==============================] - 8s 133us/step - loss: 0.1729 - acc: 0.9494\n",
            "Epoch 3/10\n",
            "24064/60000 [===========>..................] - ETA: 4s - loss: 0.1482 - acc: 0.9571"
          ],
          "name": "stdout"
        },
        {
          "output_type": "error",
          "ename": "KeyboardInterrupt",
          "evalue": "ignored",
          "traceback": [
            "\u001b[0;31m---------------------------------------------------------------------------\u001b[0m",
            "\u001b[0;31mKeyboardInterrupt\u001b[0m                         Traceback (most recent call last)",
            "\u001b[0;32m<ipython-input-12-a9df26f66971>\u001b[0m in \u001b[0;36m<module>\u001b[0;34m()\u001b[0m\n\u001b[1;32m     22\u001b[0m              \u001b[0moptimizer\u001b[0m\u001b[0;34m=\u001b[0m\u001b[0;34m'adam'\u001b[0m\u001b[0;34m,\u001b[0m\u001b[0;34m\u001b[0m\u001b[0;34m\u001b[0m\u001b[0m\n\u001b[1;32m     23\u001b[0m              metrics=['accuracy'])\n\u001b[0;32m---> 24\u001b[0;31m   \u001b[0mmodel\u001b[0m\u001b[0;34m.\u001b[0m\u001b[0mfit\u001b[0m\u001b[0;34m(\u001b[0m\u001b[0mX_train\u001b[0m\u001b[0;34m,\u001b[0m \u001b[0mY_train\u001b[0m\u001b[0;34m,\u001b[0m \u001b[0mbatch_size\u001b[0m\u001b[0;34m=\u001b[0m\u001b[0;36m32\u001b[0m\u001b[0;34m,\u001b[0m \u001b[0mnb_epoch\u001b[0m\u001b[0;34m=\u001b[0m\u001b[0;36m10\u001b[0m\u001b[0;34m,\u001b[0m \u001b[0mverbose\u001b[0m\u001b[0;34m=\u001b[0m\u001b[0;36m1\u001b[0m\u001b[0;34m)\u001b[0m\u001b[0;34m\u001b[0m\u001b[0;34m\u001b[0m\u001b[0m\n\u001b[0m\u001b[1;32m     25\u001b[0m   \u001b[0mscore\u001b[0m \u001b[0;34m=\u001b[0m \u001b[0mmodel\u001b[0m\u001b[0;34m.\u001b[0m\u001b[0mevaluate\u001b[0m\u001b[0;34m(\u001b[0m\u001b[0mX_test\u001b[0m\u001b[0;34m,\u001b[0m \u001b[0mY_test\u001b[0m\u001b[0;34m,\u001b[0m \u001b[0mverbose\u001b[0m\u001b[0;34m=\u001b[0m\u001b[0;36m0\u001b[0m\u001b[0;34m)\u001b[0m\u001b[0;34m\u001b[0m\u001b[0;34m\u001b[0m\u001b[0m\n\u001b[1;32m     26\u001b[0m   \u001b[0mprint\u001b[0m\u001b[0;34m(\u001b[0m\u001b[0;34m'Score-->'\u001b[0m\u001b[0;34m,\u001b[0m \u001b[0mscore\u001b[0m\u001b[0;34m)\u001b[0m\u001b[0;34m\u001b[0m\u001b[0;34m\u001b[0m\u001b[0m\n",
            "\u001b[0;32m/usr/local/lib/python3.6/dist-packages/keras/engine/training.py\u001b[0m in \u001b[0;36mfit\u001b[0;34m(self, x, y, batch_size, epochs, verbose, callbacks, validation_split, validation_data, shuffle, class_weight, sample_weight, initial_epoch, steps_per_epoch, validation_steps, **kwargs)\u001b[0m\n\u001b[1;32m   1037\u001b[0m                                         \u001b[0minitial_epoch\u001b[0m\u001b[0;34m=\u001b[0m\u001b[0minitial_epoch\u001b[0m\u001b[0;34m,\u001b[0m\u001b[0;34m\u001b[0m\u001b[0;34m\u001b[0m\u001b[0m\n\u001b[1;32m   1038\u001b[0m                                         \u001b[0msteps_per_epoch\u001b[0m\u001b[0;34m=\u001b[0m\u001b[0msteps_per_epoch\u001b[0m\u001b[0;34m,\u001b[0m\u001b[0;34m\u001b[0m\u001b[0;34m\u001b[0m\u001b[0m\n\u001b[0;32m-> 1039\u001b[0;31m                                         validation_steps=validation_steps)\n\u001b[0m\u001b[1;32m   1040\u001b[0m \u001b[0;34m\u001b[0m\u001b[0m\n\u001b[1;32m   1041\u001b[0m     def evaluate(self, x=None, y=None,\n",
            "\u001b[0;32m/usr/local/lib/python3.6/dist-packages/keras/engine/training_arrays.py\u001b[0m in \u001b[0;36mfit_loop\u001b[0;34m(model, f, ins, out_labels, batch_size, epochs, verbose, callbacks, val_f, val_ins, shuffle, callback_metrics, initial_epoch, steps_per_epoch, validation_steps)\u001b[0m\n\u001b[1;32m    197\u001b[0m                     \u001b[0mins_batch\u001b[0m\u001b[0;34m[\u001b[0m\u001b[0mi\u001b[0m\u001b[0;34m]\u001b[0m \u001b[0;34m=\u001b[0m \u001b[0mins_batch\u001b[0m\u001b[0;34m[\u001b[0m\u001b[0mi\u001b[0m\u001b[0;34m]\u001b[0m\u001b[0;34m.\u001b[0m\u001b[0mtoarray\u001b[0m\u001b[0;34m(\u001b[0m\u001b[0;34m)\u001b[0m\u001b[0;34m\u001b[0m\u001b[0;34m\u001b[0m\u001b[0m\n\u001b[1;32m    198\u001b[0m \u001b[0;34m\u001b[0m\u001b[0m\n\u001b[0;32m--> 199\u001b[0;31m                 \u001b[0mouts\u001b[0m \u001b[0;34m=\u001b[0m \u001b[0mf\u001b[0m\u001b[0;34m(\u001b[0m\u001b[0mins_batch\u001b[0m\u001b[0;34m)\u001b[0m\u001b[0;34m\u001b[0m\u001b[0;34m\u001b[0m\u001b[0m\n\u001b[0m\u001b[1;32m    200\u001b[0m                 \u001b[0mouts\u001b[0m \u001b[0;34m=\u001b[0m \u001b[0mto_list\u001b[0m\u001b[0;34m(\u001b[0m\u001b[0mouts\u001b[0m\u001b[0;34m)\u001b[0m\u001b[0;34m\u001b[0m\u001b[0;34m\u001b[0m\u001b[0m\n\u001b[1;32m    201\u001b[0m                 \u001b[0;32mfor\u001b[0m \u001b[0ml\u001b[0m\u001b[0;34m,\u001b[0m \u001b[0mo\u001b[0m \u001b[0;32min\u001b[0m \u001b[0mzip\u001b[0m\u001b[0;34m(\u001b[0m\u001b[0mout_labels\u001b[0m\u001b[0;34m,\u001b[0m \u001b[0mouts\u001b[0m\u001b[0;34m)\u001b[0m\u001b[0;34m:\u001b[0m\u001b[0;34m\u001b[0m\u001b[0;34m\u001b[0m\u001b[0m\n",
            "\u001b[0;32m/usr/local/lib/python3.6/dist-packages/keras/backend/tensorflow_backend.py\u001b[0m in \u001b[0;36m__call__\u001b[0;34m(self, inputs)\u001b[0m\n\u001b[1;32m   2713\u001b[0m                 \u001b[0;32mreturn\u001b[0m \u001b[0mself\u001b[0m\u001b[0;34m.\u001b[0m\u001b[0m_legacy_call\u001b[0m\u001b[0;34m(\u001b[0m\u001b[0minputs\u001b[0m\u001b[0;34m)\u001b[0m\u001b[0;34m\u001b[0m\u001b[0;34m\u001b[0m\u001b[0m\n\u001b[1;32m   2714\u001b[0m \u001b[0;34m\u001b[0m\u001b[0m\n\u001b[0;32m-> 2715\u001b[0;31m             \u001b[0;32mreturn\u001b[0m \u001b[0mself\u001b[0m\u001b[0;34m.\u001b[0m\u001b[0m_call\u001b[0m\u001b[0;34m(\u001b[0m\u001b[0minputs\u001b[0m\u001b[0;34m)\u001b[0m\u001b[0;34m\u001b[0m\u001b[0;34m\u001b[0m\u001b[0m\n\u001b[0m\u001b[1;32m   2716\u001b[0m         \u001b[0;32melse\u001b[0m\u001b[0;34m:\u001b[0m\u001b[0;34m\u001b[0m\u001b[0;34m\u001b[0m\u001b[0m\n\u001b[1;32m   2717\u001b[0m             \u001b[0;32mif\u001b[0m \u001b[0mpy_any\u001b[0m\u001b[0;34m(\u001b[0m\u001b[0mis_tensor\u001b[0m\u001b[0;34m(\u001b[0m\u001b[0mx\u001b[0m\u001b[0;34m)\u001b[0m \u001b[0;32mfor\u001b[0m \u001b[0mx\u001b[0m \u001b[0;32min\u001b[0m \u001b[0minputs\u001b[0m\u001b[0;34m)\u001b[0m\u001b[0;34m:\u001b[0m\u001b[0;34m\u001b[0m\u001b[0;34m\u001b[0m\u001b[0m\n",
            "\u001b[0;32m/usr/local/lib/python3.6/dist-packages/keras/backend/tensorflow_backend.py\u001b[0m in \u001b[0;36m_call\u001b[0;34m(self, inputs)\u001b[0m\n\u001b[1;32m   2673\u001b[0m             \u001b[0mfetched\u001b[0m \u001b[0;34m=\u001b[0m \u001b[0mself\u001b[0m\u001b[0;34m.\u001b[0m\u001b[0m_callable_fn\u001b[0m\u001b[0;34m(\u001b[0m\u001b[0;34m*\u001b[0m\u001b[0marray_vals\u001b[0m\u001b[0;34m,\u001b[0m \u001b[0mrun_metadata\u001b[0m\u001b[0;34m=\u001b[0m\u001b[0mself\u001b[0m\u001b[0;34m.\u001b[0m\u001b[0mrun_metadata\u001b[0m\u001b[0;34m)\u001b[0m\u001b[0;34m\u001b[0m\u001b[0;34m\u001b[0m\u001b[0m\n\u001b[1;32m   2674\u001b[0m         \u001b[0;32melse\u001b[0m\u001b[0;34m:\u001b[0m\u001b[0;34m\u001b[0m\u001b[0;34m\u001b[0m\u001b[0m\n\u001b[0;32m-> 2675\u001b[0;31m             \u001b[0mfetched\u001b[0m \u001b[0;34m=\u001b[0m \u001b[0mself\u001b[0m\u001b[0;34m.\u001b[0m\u001b[0m_callable_fn\u001b[0m\u001b[0;34m(\u001b[0m\u001b[0;34m*\u001b[0m\u001b[0marray_vals\u001b[0m\u001b[0;34m)\u001b[0m\u001b[0;34m\u001b[0m\u001b[0;34m\u001b[0m\u001b[0m\n\u001b[0m\u001b[1;32m   2676\u001b[0m         \u001b[0;32mreturn\u001b[0m \u001b[0mfetched\u001b[0m\u001b[0;34m[\u001b[0m\u001b[0;34m:\u001b[0m\u001b[0mlen\u001b[0m\u001b[0;34m(\u001b[0m\u001b[0mself\u001b[0m\u001b[0;34m.\u001b[0m\u001b[0moutputs\u001b[0m\u001b[0;34m)\u001b[0m\u001b[0;34m]\u001b[0m\u001b[0;34m\u001b[0m\u001b[0;34m\u001b[0m\u001b[0m\n\u001b[1;32m   2677\u001b[0m \u001b[0;34m\u001b[0m\u001b[0m\n",
            "\u001b[0;32m/usr/local/lib/python3.6/dist-packages/tensorflow/python/client/session.py\u001b[0m in \u001b[0;36m__call__\u001b[0;34m(self, *args, **kwargs)\u001b[0m\n\u001b[1;32m   1437\u001b[0m           ret = tf_session.TF_SessionRunCallable(\n\u001b[1;32m   1438\u001b[0m               \u001b[0mself\u001b[0m\u001b[0;34m.\u001b[0m\u001b[0m_session\u001b[0m\u001b[0;34m.\u001b[0m\u001b[0m_session\u001b[0m\u001b[0;34m,\u001b[0m \u001b[0mself\u001b[0m\u001b[0;34m.\u001b[0m\u001b[0m_handle\u001b[0m\u001b[0;34m,\u001b[0m \u001b[0margs\u001b[0m\u001b[0;34m,\u001b[0m \u001b[0mstatus\u001b[0m\u001b[0;34m,\u001b[0m\u001b[0;34m\u001b[0m\u001b[0;34m\u001b[0m\u001b[0m\n\u001b[0;32m-> 1439\u001b[0;31m               run_metadata_ptr)\n\u001b[0m\u001b[1;32m   1440\u001b[0m         \u001b[0;32mif\u001b[0m \u001b[0mrun_metadata\u001b[0m\u001b[0;34m:\u001b[0m\u001b[0;34m\u001b[0m\u001b[0;34m\u001b[0m\u001b[0m\n\u001b[1;32m   1441\u001b[0m           \u001b[0mproto_data\u001b[0m \u001b[0;34m=\u001b[0m \u001b[0mtf_session\u001b[0m\u001b[0;34m.\u001b[0m\u001b[0mTF_GetBuffer\u001b[0m\u001b[0;34m(\u001b[0m\u001b[0mrun_metadata_ptr\u001b[0m\u001b[0;34m)\u001b[0m\u001b[0;34m\u001b[0m\u001b[0;34m\u001b[0m\u001b[0m\n",
            "\u001b[0;31mKeyboardInterrupt\u001b[0m: "
          ]
        }
      ]
    },
    {
      "cell_type": "code",
      "metadata": {
        "id": "TzdAYg1k9K7Z",
        "colab_type": "code",
        "colab": {}
      },
      "source": [
        "model.summary()"
      ],
      "execution_count": 0,
      "outputs": []
    },
    {
      "cell_type": "code",
      "metadata": {
        "id": "Zp6SuGrL9M3h",
        "colab_type": "code",
        "colab": {}
      },
      "source": [
        "model.compile(loss='categorical_crossentropy',\n",
        "             optimizer='adam',\n",
        "             metrics=['accuracy'])"
      ],
      "execution_count": 0,
      "outputs": []
    },
    {
      "cell_type": "code",
      "metadata": {
        "id": "4xWoKhPY9Of5",
        "colab_type": "code",
        "colab": {}
      },
      "source": [
        "model.fit(X_train, Y_train, batch_size=32, nb_epoch=10, verbose=1)"
      ],
      "execution_count": 0,
      "outputs": []
    },
    {
      "cell_type": "code",
      "metadata": {
        "id": "AtsH-lLk-eLb",
        "colab_type": "code",
        "colab": {}
      },
      "source": [
        "score = model.evaluate(X_test, Y_test, verbose=0)"
      ],
      "execution_count": 0,
      "outputs": []
    },
    {
      "cell_type": "code",
      "metadata": {
        "id": "mkX8JMv79q9r",
        "colab_type": "code",
        "colab": {}
      },
      "source": [
        "print(score)"
      ],
      "execution_count": 0,
      "outputs": []
    },
    {
      "cell_type": "code",
      "metadata": {
        "id": "OCWoJkwE9suh",
        "colab_type": "code",
        "colab": {}
      },
      "source": [
        "y_pred = model.predict(X_test)"
      ],
      "execution_count": 0,
      "outputs": []
    },
    {
      "cell_type": "code",
      "metadata": {
        "id": "Ym7iCFBm9uBs",
        "colab_type": "code",
        "colab": {}
      },
      "source": [
        "print(y_pred[:9])\n",
        "print(y_test[:9])"
      ],
      "execution_count": 0,
      "outputs": []
    },
    {
      "cell_type": "code",
      "metadata": {
        "id": "CT--y98_dr2T",
        "colab_type": "code",
        "colab": {}
      },
      "source": [
        "layer_dict = dict([(layer.name, layer) for layer in model.layers])"
      ],
      "execution_count": 0,
      "outputs": []
    },
    {
      "cell_type": "code",
      "metadata": {
        "id": "2GY4Upv4dsUR",
        "colab_type": "code",
        "colab": {}
      },
      "source": [
        "import numpy as np\n",
        "from matplotlib import pyplot as plt\n",
        "from keras import backend as K\n",
        "%matplotlib inline\n",
        "# util function to convert a tensor into a valid image\n",
        "def deprocess_image(x):\n",
        "    # normalize tensor: center on 0., ensure std is 0.1\n",
        "    x -= x.mean()\n",
        "    x /= (x.std() + 1e-5)\n",
        "    x *= 0.1\n",
        "\n",
        "    # clip to [0, 1]\n",
        "    x += 0.5\n",
        "    x = np.clip(x, 0, 1)\n",
        "\n",
        "    # convert to RGB array\n",
        "    x *= 255\n",
        "    #x = x.transpose((1, 2, 0))\n",
        "    x = np.clip(x, 0, 255).astype('uint8')\n",
        "    return x\n",
        "\n",
        "def vis_img_in_filter(img = np.array(X_train[2]).reshape((1, 28, 28, 1)).astype(np.float64), \n",
        "                      layer_name = 'conv2d_14'):\n",
        "    layer_output = layer_dict[layer_name].output\n",
        "    img_ascs = list()\n",
        "    for filter_index in range(layer_output.shape[3]):\n",
        "        # build a loss function that maximizes the activation\n",
        "        # of the nth filter of the layer considered\n",
        "        loss = K.mean(layer_output[:, :, :, filter_index])\n",
        "\n",
        "        # compute the gradient of the input picture wrt this loss\n",
        "        grads = K.gradients(loss, model.input)[0]\n",
        "\n",
        "        # normalization trick: we normalize the gradient\n",
        "        grads /= (K.sqrt(K.mean(K.square(grads))) + 1e-5)\n",
        "\n",
        "        # this function returns the loss and grads given the input picture\n",
        "        iterate = K.function([model.input], [loss, grads])\n",
        "\n",
        "        # step size for gradient ascent\n",
        "        step = 5.\n",
        "\n",
        "        img_asc = np.array(img)\n",
        "        # run gradient ascent for 20 steps\n",
        "        for i in range(20):\n",
        "            loss_value, grads_value = iterate([img_asc])\n",
        "            img_asc += grads_value * step\n",
        "\n",
        "        img_asc = img_asc[0]\n",
        "        img_ascs.append(deprocess_image(img_asc).reshape((28, 28)))\n",
        "        \n",
        "    if layer_output.shape[3] >= 35:\n",
        "        plot_x, plot_y = 6, 6\n",
        "    elif layer_output.shape[3] >= 23:\n",
        "        plot_x, plot_y = 4, 6\n",
        "    elif layer_output.shape[3] >= 11:\n",
        "        plot_x, plot_y = 2, 6\n",
        "    else:\n",
        "        plot_x, plot_y = 1, 2\n",
        "    fig, ax = plt.subplots(plot_x, plot_y, figsize = (12, 12))\n",
        "    ax[0, 0].imshow(img.reshape((28, 28)), cmap = 'gray')\n",
        "    ax[0, 0].set_title('Input image')\n",
        "    fig.suptitle('Input image and %s filters' % (layer_name,))\n",
        "    fig.tight_layout(pad = 0.3, rect = [0, 0, 0.9, 0.9])\n",
        "    for (x, y) in [(i, j) for i in range(plot_x) for j in range(plot_y)]:\n",
        "        if x == 0 and y == 0:\n",
        "            continue\n",
        "        ax[x, y].imshow(img_ascs[x * plot_y + y - 1], cmap = 'gray')\n",
        "        ax[x, y].set_title('filter %d' % (x * plot_y + y - 1))\n",
        "\n",
        "vis_img_in_filter()"
      ],
      "execution_count": 0,
      "outputs": []
    },
    {
      "cell_type": "code",
      "metadata": {
        "id": "9tvptcn8dxvp",
        "colab_type": "code",
        "colab": {}
      },
      "source": [
        ""
      ],
      "execution_count": 0,
      "outputs": []
    }
  ]
}